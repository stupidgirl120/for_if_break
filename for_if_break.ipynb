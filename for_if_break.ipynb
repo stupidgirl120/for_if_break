{
 "cells": [
  {
   "cell_type": "markdown",
   "metadata": {},
   "source": [
    "Q1: 曾称质数。一个大于1的正整数，如果除了1和它本身以外，不能被其他正整数整除， Q: m是否是素数？"
   ]
  },
  {
   "cell_type": "code",
   "execution_count": 26,
   "metadata": {},
   "outputs": [
    {
     "name": "stdout",
     "output_type": "stream",
     "text": [
      "please input a number: 7\n",
      "m is a prime number 7\n"
     ]
    }
   ],
   "source": [
    "m = int(input('please input a number: '))\n",
    "#k = int(math.sqrt(m))\n",
    "k = int(m**0.5)\n",
    "\n",
    "for i in range(2,k):  # : \n",
    "    if(m%i==0): \n",
    "        break    \n",
    "if(i>=k+1):\n",
    "    print(\"m is a prime number\", m)\n",
    "else:\n",
    "    print(\"m is not a prime number\", m)\n",
    "\n",
    "# pay attention to data types"
   ]
  },
  {
   "cell_type": "code",
   "execution_count": 21,
   "metadata": {},
   "outputs": [
    {
     "name": "stdout",
     "output_type": "stream",
     "text": [
      "请输入一个整数(>1)：7\n",
      "7 是素数！\n"
     ]
    }
   ],
   "source": [
    "# answer from others https://blog.csdn.net/langzihml/article/details/80042574\n",
    "import math\n",
    "m = int(input(\"请输入一个整数(>1)：\"))\n",
    "k = int(math.sqrt(m))\n",
    "for i in range(2, k+2):\n",
    "    if m % i == 0:\n",
    "        break #可以整除，肯定不是素数，结束循环\n",
    "if i == k+1: print(m, \"是素数！\")\n",
    "else: print(m, \"是合数！\")"
   ]
  },
  {
   "cell_type": "markdown",
   "metadata": {},
   "source": [
    "Q2：求100到200全部素数？"
   ]
  },
  {
   "cell_type": "code",
   "execution_count": null,
   "metadata": {},
   "outputs": [],
   "source": [
    "import math;n = 0\n",
    "for m in range(101, 201, 2):\n",
    "    k = int(math.sqrt(m))\n",
    "    for i in range(2, k):\n",
    "        if m%i == 0:\n",
    "            break\n",
    "    if i >= k+1:\n",
    "        print('m is a prime number', m)\n",
    "        n = n + 1\n",
    "    if n % n == 0:\n",
    "        print(\"\\n\")  \n",
    "    \n",
    "        \n",
    "        "
   ]
  },
  {
   "cell_type": "code",
   "execution_count": null,
   "metadata": {},
   "outputs": [],
   "source": [
    "import math;n=0\n",
    "for m in range(101,201,2):\n",
    "    k = int(math.sqrt(m))\n",
    "    for i in range(2,k+2):\n",
    "        if m % i == 0:break\n",
    "    if i == k+1:\n",
    "        if n % 10 == 0:print()\n",
    "        print('%d' % m,end=' ')\n",
    "        n += 1"
   ]
  },
  {
   "cell_type": "code",
   "execution_count": null,
   "metadata": {},
   "outputs": [],
   "source": []
  }
 ],
 "metadata": {
  "kernelspec": {
   "display_name": "Python 3",
   "language": "python",
   "name": "python3"
  },
  "language_info": {
   "codemirror_mode": {
    "name": "ipython",
    "version": 3
   },
   "file_extension": ".py",
   "mimetype": "text/x-python",
   "name": "python",
   "nbconvert_exporter": "python",
   "pygments_lexer": "ipython3",
   "version": "3.6.5"
  }
 },
 "nbformat": 4,
 "nbformat_minor": 2
}
